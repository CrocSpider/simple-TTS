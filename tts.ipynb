{
  "cells": [
    {
      "cell_type": "code",
      "execution_count": null,
      "metadata": {
        "colab": {
          "base_uri": "https://localhost:8080/"
        },
        "collapsed": true,
        "id": "ouOgHQxsNHPT",
        "outputId": "82c3fd32-cdc2-452e-8378-42fde706b5ba"
      },
      "outputs": [],
      "source": [
        "!apt-get install -y espeak  #to play audio"
      ]
    },
    {
      "cell_type": "code",
      "execution_count": null,
      "metadata": {
        "colab": {
          "base_uri": "https://localhost:8080/"
        },
        "id": "_S1qSL0EK9fN",
        "outputId": "3c8af836-01da-488a-a97c-cb715d6b3937"
      },
      "outputs": [],
      "source": [
        "#install uv, for no reason\n",
        "!curl -LsSf https://astral.sh/uv/install.sh | sh"
      ]
    },
    {
      "cell_type": "code",
      "execution_count": null,
      "metadata": {
        "colab": {
          "base_uri": "https://localhost:8080/"
        },
        "collapsed": true,
        "id": "K2onbA7g0NKm",
        "outputId": "dda8dc30-361b-4c91-f838-2eefd7bdb4db"
      },
      "outputs": [],
      "source": [
        "!git clone https://github.com/nazdridoy/kokoro-tts.git\n",
        "\n",
        "!uv pip install -r kokoro-tts/requirements.txt\n",
        "!uv pip install kokoro-onnx[gpu]"
      ]
    },
    {
      "cell_type": "code",
      "execution_count": null,
      "metadata": {
        "colab": {
          "base_uri": "https://localhost:8080/"
        },
        "collapsed": true,
        "id": "8yTpdwzJ2yUZ",
        "outputId": "6113e86a-b104-4cdc-e77e-1d7f8aebe0ae"
      },
      "outputs": [],
      "source": [
        "!wget https://github.com/nazdridoy/kokoro-tts/releases/download/v1.0.0/voices-v1.0.bin\n",
        "!wget https://github.com/thewh1teagle/kokoro-onnx/releases/download/model-files-v1.0/kokoro-v1.0.onnx"
      ]
    },
    {
      "cell_type": "code",
      "execution_count": null,
      "metadata": {
        "colab": {
          "base_uri": "https://localhost:8080/",
          "height": 36
        },
        "id": "Wf_z1gKO8P9K",
        "outputId": "5f40cab5-3953-4b4b-8dde-3cb7492dbdf7"
      },
      "outputs": [],
      "source": [
        "\n",
        "import onnxruntime as rt\n",
        "rt.get_device()"
      ]
    },
    {
      "cell_type": "markdown",
      "metadata": {
        "id": "QIyTOLSNMlmx"
      },
      "source": [
        "see if you are using CPU or GPU. ***optional***"
      ]
    },
    {
      "cell_type": "code",
      "execution_count": null,
      "metadata": {
        "colab": {
          "base_uri": "https://localhost:8080/"
        },
        "id": "4mG3GZ3W9czP",
        "outputId": "b0bb12b0-ab2e-4dd6-e86c-09563ba92ae4"
      },
      "outputs": [],
      "source": [
        "#this is just to testout GPU vs CPU\n",
        "import onnxruntime as ort\n",
        "\n",
        "sess = ort.InferenceSession('kokoro-v1.0.onnx', providers=['CUDAExecutionProvider', 'CPUExecutionProvider'])\n",
        "\n",
        "print(\"Available providers:\", ort.get_available_providers())\n",
        "print(\"ONNX Runtime version:\", ort.__version__)\n",
        "print(\"Available providers:\", ort.get_available_providers())\n",
        "\n",
        "if 'CUDAExecutionProvider' in ort.get_available_providers():\n",
        "    print(\"GPU is available and will be used by ONNX Runtime.\")\n",
        "else:\n",
        "    print(\"GPU is NOT available to ONNX Runtime (using CPU).\")"
      ]
    },
    {
      "cell_type": "code",
      "execution_count": null,
      "metadata": {
        "colab": {
          "base_uri": "https://localhost:8080/"
        },
        "id": "ifaFgaf6O5Uz",
        "outputId": "5aaea22d-2eb7-4c64-91bd-2d676749ac68"
      },
      "outputs": [],
      "source": [
        "import os\n",
        "os.environ['ONNX_PROVIDER'] = 'CUDAExecutionProvider'\n",
        "\n",
        "!echo $ONNX_PROVIDER"
      ]
    },
    {
      "cell_type": "code",
      "execution_count": null,
      "metadata": {
        "colab": {
          "base_uri": "https://localhost:8080/",
          "height": 356
        },
        "id": "10Gjbl1f0mMY",
        "outputId": "600ffe48-684d-4bac-98c6-cf9814532e1d"
      },
      "outputs": [],
      "source": [
        "import os\n",
        "# Synthesize audio to file from a text\n",
        "#!echo \"Achieving highly ordered and uniformly covered self-assembly monolayers (SAMs) with optimal packing configuration on textured silicon substrates remains a critical challenge for further improving the efficiency of perovskite/silicon tandem solar cells\" | kokoro-tts/kokoro-tts /dev/stdin output.wav --speed 1.2 --lang en-us --voice af_sarah\n",
        "\n",
        "# Synthesize audio to file from a file\n",
        "!kokoro-tts/kokoro-tts Abstract.txt output.wav --speed 1.1 --lang en-us --voice af_sky\n",
        "\n",
        "\n",
        "print(os.path.isfile('output.wav'))\n",
        "\n",
        "# Play it back\n",
        "from IPython.display import Audio\n",
        "Audio(\"output.wav\")"
      ]
    },
    {
      "cell_type": "code",
      "execution_count": 28,
      "metadata": {
        "id": "CIWuqoU66p4Z"
      },
      "outputs": [],
      "source": []
    }
  ],
  "metadata": {
    "accelerator": "GPU",
    "colab": {
      "gpuType": "T4",
      "provenance": []
    },
    "kernelspec": {
      "display_name": "Python 3",
      "name": "python3"
    },
    "language_info": {
      "name": "python"
    }
  },
  "nbformat": 4,
  "nbformat_minor": 0
}
